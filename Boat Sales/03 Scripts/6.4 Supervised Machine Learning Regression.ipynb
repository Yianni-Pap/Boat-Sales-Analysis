{
 "cells": [
  {
   "cell_type": "markdown",
   "id": "d05ac6b4",
   "metadata": {},
   "source": [
    "# 6.4 Supervised Machine Learning Regression"
   ]
  },
  {
   "cell_type": "markdown",
   "id": "bafc1ab7",
   "metadata": {},
   "source": [
    "#### 1. Importing libraries and data\n",
    "\n",
    "#### 2. Data cleaning\n",
    "\n",
    "####  3. Data preparation for regression analysis\n",
    "\n",
    "####  4. Regression analysis"
   ]
  },
  {
   "cell_type": "markdown",
   "id": "927ba95c",
   "metadata": {},
   "source": [
    "### 1. Importing libraries"
   ]
  },
  {
   "cell_type": "code",
   "execution_count": 1,
   "id": "fe082668",
   "metadata": {},
   "outputs": [],
   "source": [
    "import pandas as pd\n",
    "import numpy as np\n",
    "import seaborn as sns\n",
    "import matplotlib\n",
    "import matplotlib.pyplot as plt\n",
    "import os\n",
    "import sklearn\n",
    "from sklearn.model_selection import train_test_split \n",
    "from sklearn.linear_model import LinearRegression\n",
    "from sklearn.metrics import mean_squared_error, r2_score"
   ]
  },
  {
   "cell_type": "code",
   "execution_count": 3,
   "id": "8958814a",
   "metadata": {},
   "outputs": [],
   "source": [
    "# Ensuring the charts created are displayed in the notebook without the need to \"call\" them specifically.\n",
    "%matplotlib inline"
   ]
  },
  {
   "cell_type": "code",
   "execution_count": 4,
   "id": "a8505ca4",
   "metadata": {},
   "outputs": [],
   "source": [
    "path = r'/Users/stadtsalat/Documents/Boat Sales'"
   ]
  },
  {
   "cell_type": "code",
   "execution_count": 5,
   "id": "ff123b84",
   "metadata": {},
   "outputs": [],
   "source": [
    "# Importing the latest data set\n",
    "df = pd.read_csv(os.path.join(path, '02 Data', 'Prepared Data', 'df_6_3.csv'))"
   ]
  },
  {
   "cell_type": "code",
   "execution_count": 6,
   "id": "380aec69",
   "metadata": {},
   "outputs": [
    {
     "data": {
      "text/html": [
       "<div>\n",
       "<style scoped>\n",
       "    .dataframe tbody tr th:only-of-type {\n",
       "        vertical-align: middle;\n",
       "    }\n",
       "\n",
       "    .dataframe tbody tr th {\n",
       "        vertical-align: top;\n",
       "    }\n",
       "\n",
       "    .dataframe thead th {\n",
       "        text-align: right;\n",
       "    }\n",
       "</style>\n",
       "<table border=\"1\" class=\"dataframe\">\n",
       "  <thead>\n",
       "    <tr style=\"text-align: right;\">\n",
       "      <th></th>\n",
       "      <th>Unnamed: 0.1</th>\n",
       "      <th>Unnamed: 0</th>\n",
       "      <th>Boat Type</th>\n",
       "      <th>Manufacturer</th>\n",
       "      <th>Type</th>\n",
       "      <th>Year Built</th>\n",
       "      <th>Length</th>\n",
       "      <th>Width</th>\n",
       "      <th>Material</th>\n",
       "      <th>Views last 7 days</th>\n",
       "      <th>Price_in_Euro</th>\n",
       "      <th>Country</th>\n",
       "      <th>City</th>\n",
       "      <th>Pricing Category</th>\n",
       "    </tr>\n",
       "  </thead>\n",
       "  <tbody>\n",
       "    <tr>\n",
       "      <th>0</th>\n",
       "      <td>0</td>\n",
       "      <td>0</td>\n",
       "      <td>Motor Yacht</td>\n",
       "      <td>Rigiflex power boats</td>\n",
       "      <td>new boat from stock</td>\n",
       "      <td>2017</td>\n",
       "      <td>4.00</td>\n",
       "      <td>1.90</td>\n",
       "      <td>Unknown</td>\n",
       "      <td>226</td>\n",
       "      <td>3370</td>\n",
       "      <td>Switzerland</td>\n",
       "      <td>Lake Geneva</td>\n",
       "      <td>Low price</td>\n",
       "    </tr>\n",
       "    <tr>\n",
       "      <th>1</th>\n",
       "      <td>1</td>\n",
       "      <td>1</td>\n",
       "      <td>Center console boat</td>\n",
       "      <td>Terhi power boats</td>\n",
       "      <td>new boat from stock</td>\n",
       "      <td>2020</td>\n",
       "      <td>4.00</td>\n",
       "      <td>1.50</td>\n",
       "      <td>Thermoplastic</td>\n",
       "      <td>75</td>\n",
       "      <td>3490</td>\n",
       "      <td>Germany</td>\n",
       "      <td>Bnningstedt</td>\n",
       "      <td>Low price</td>\n",
       "    </tr>\n",
       "    <tr>\n",
       "      <th>2</th>\n",
       "      <td>2</td>\n",
       "      <td>3</td>\n",
       "      <td>Sport Boat</td>\n",
       "      <td>Pioner power boats</td>\n",
       "      <td>new boat from stock</td>\n",
       "      <td>2020</td>\n",
       "      <td>3.00</td>\n",
       "      <td>1.00</td>\n",
       "      <td>Unknown</td>\n",
       "      <td>64</td>\n",
       "      <td>3367</td>\n",
       "      <td>Denmark</td>\n",
       "      <td>Svendborg</td>\n",
       "      <td>Low price</td>\n",
       "    </tr>\n",
       "    <tr>\n",
       "      <th>3</th>\n",
       "      <td>3</td>\n",
       "      <td>4</td>\n",
       "      <td>Fishing Boat</td>\n",
       "      <td>Linder power boats</td>\n",
       "      <td>new boat from stock</td>\n",
       "      <td>2019</td>\n",
       "      <td>3.55</td>\n",
       "      <td>1.46</td>\n",
       "      <td>Aluminium</td>\n",
       "      <td>58</td>\n",
       "      <td>3399</td>\n",
       "      <td>Germany</td>\n",
       "      <td>Bayern</td>\n",
       "      <td>Low price</td>\n",
       "    </tr>\n",
       "    <tr>\n",
       "      <th>4</th>\n",
       "      <td>4</td>\n",
       "      <td>6</td>\n",
       "      <td>Catamaran</td>\n",
       "      <td>Unknown</td>\n",
       "      <td>Used boat,Unleaded</td>\n",
       "      <td>1999</td>\n",
       "      <td>6.20</td>\n",
       "      <td>2.38</td>\n",
       "      <td>Aluminium</td>\n",
       "      <td>474</td>\n",
       "      <td>3636</td>\n",
       "      <td>Switzerland</td>\n",
       "      <td>Neuenburgersee</td>\n",
       "      <td>Low price</td>\n",
       "    </tr>\n",
       "  </tbody>\n",
       "</table>\n",
       "</div>"
      ],
      "text/plain": [
       "   Unnamed: 0.1  Unnamed: 0            Boat Type          Manufacturer  \\\n",
       "0             0           0          Motor Yacht  Rigiflex power boats   \n",
       "1             1           1  Center console boat     Terhi power boats   \n",
       "2             2           3           Sport Boat    Pioner power boats   \n",
       "3             3           4         Fishing Boat    Linder power boats   \n",
       "4             4           6            Catamaran               Unknown   \n",
       "\n",
       "                  Type  Year Built  Length  Width       Material  \\\n",
       "0  new boat from stock        2017    4.00   1.90        Unknown   \n",
       "1  new boat from stock        2020    4.00   1.50  Thermoplastic   \n",
       "2  new boat from stock        2020    3.00   1.00        Unknown   \n",
       "3  new boat from stock        2019    3.55   1.46      Aluminium   \n",
       "4   Used boat,Unleaded        1999    6.20   2.38      Aluminium   \n",
       "\n",
       "   Views last 7 days  Price_in_Euro       Country              City  \\\n",
       "0                226           3370  Switzerland       Lake Geneva    \n",
       "1                 75           3490      Germany        Bnningstedt   \n",
       "2                 64           3367      Denmark          Svendborg   \n",
       "3                 58           3399      Germany            Bayern    \n",
       "4                474           3636  Switzerland    Neuenburgersee    \n",
       "\n",
       "  Pricing Category  \n",
       "0        Low price  \n",
       "1        Low price  \n",
       "2        Low price  \n",
       "3        Low price  \n",
       "4        Low price  "
      ]
     },
     "execution_count": 6,
     "metadata": {},
     "output_type": "execute_result"
    }
   ],
   "source": [
    "df.head()"
   ]
  },
  {
   "cell_type": "markdown",
   "id": "0fc89f1e",
   "metadata": {},
   "source": [
    "### 2. Data cleaning"
   ]
  },
  {
   "cell_type": "code",
   "execution_count": 7,
   "id": "35762ae0",
   "metadata": {},
   "outputs": [
    {
     "data": {
      "text/plain": [
       "Index(['Unnamed: 0.1', 'Unnamed: 0', 'Boat Type', 'Manufacturer', 'Type',\n",
       "       'Year Built', 'Length', 'Width', 'Material', 'Views last 7 days',\n",
       "       'Price_in_Euro', 'Country', 'City', 'Pricing Category'],\n",
       "      dtype='object')"
      ]
     },
     "execution_count": 7,
     "metadata": {},
     "output_type": "execute_result"
    }
   ],
   "source": [
    "df.columns"
   ]
  },
  {
   "cell_type": "code",
   "execution_count": 8,
   "id": "5c6149dc",
   "metadata": {},
   "outputs": [],
   "source": [
    "# Dropping the two redundant columns\n",
    "df = df.drop(['Unnamed: 0', 'Unnamed: 0.1'],axis = 1)"
   ]
  },
  {
   "cell_type": "code",
   "execution_count": 9,
   "id": "14ba8911",
   "metadata": {},
   "outputs": [
    {
     "data": {
      "text/html": [
       "<div>\n",
       "<style scoped>\n",
       "    .dataframe tbody tr th:only-of-type {\n",
       "        vertical-align: middle;\n",
       "    }\n",
       "\n",
       "    .dataframe tbody tr th {\n",
       "        vertical-align: top;\n",
       "    }\n",
       "\n",
       "    .dataframe thead th {\n",
       "        text-align: right;\n",
       "    }\n",
       "</style>\n",
       "<table border=\"1\" class=\"dataframe\">\n",
       "  <thead>\n",
       "    <tr style=\"text-align: right;\">\n",
       "      <th></th>\n",
       "      <th>Boat Type</th>\n",
       "      <th>Manufacturer</th>\n",
       "      <th>Type</th>\n",
       "      <th>Year Built</th>\n",
       "      <th>Length</th>\n",
       "      <th>Width</th>\n",
       "      <th>Material</th>\n",
       "      <th>Views last 7 days</th>\n",
       "      <th>Price_in_Euro</th>\n",
       "      <th>Country</th>\n",
       "      <th>City</th>\n",
       "      <th>Pricing Category</th>\n",
       "    </tr>\n",
       "  </thead>\n",
       "  <tbody>\n",
       "    <tr>\n",
       "      <th>0</th>\n",
       "      <td>Motor Yacht</td>\n",
       "      <td>Rigiflex power boats</td>\n",
       "      <td>new boat from stock</td>\n",
       "      <td>2017</td>\n",
       "      <td>4.00</td>\n",
       "      <td>1.90</td>\n",
       "      <td>Unknown</td>\n",
       "      <td>226</td>\n",
       "      <td>3370</td>\n",
       "      <td>Switzerland</td>\n",
       "      <td>Lake Geneva</td>\n",
       "      <td>Low price</td>\n",
       "    </tr>\n",
       "    <tr>\n",
       "      <th>1</th>\n",
       "      <td>Center console boat</td>\n",
       "      <td>Terhi power boats</td>\n",
       "      <td>new boat from stock</td>\n",
       "      <td>2020</td>\n",
       "      <td>4.00</td>\n",
       "      <td>1.50</td>\n",
       "      <td>Thermoplastic</td>\n",
       "      <td>75</td>\n",
       "      <td>3490</td>\n",
       "      <td>Germany</td>\n",
       "      <td>Bnningstedt</td>\n",
       "      <td>Low price</td>\n",
       "    </tr>\n",
       "    <tr>\n",
       "      <th>2</th>\n",
       "      <td>Sport Boat</td>\n",
       "      <td>Pioner power boats</td>\n",
       "      <td>new boat from stock</td>\n",
       "      <td>2020</td>\n",
       "      <td>3.00</td>\n",
       "      <td>1.00</td>\n",
       "      <td>Unknown</td>\n",
       "      <td>64</td>\n",
       "      <td>3367</td>\n",
       "      <td>Denmark</td>\n",
       "      <td>Svendborg</td>\n",
       "      <td>Low price</td>\n",
       "    </tr>\n",
       "    <tr>\n",
       "      <th>3</th>\n",
       "      <td>Fishing Boat</td>\n",
       "      <td>Linder power boats</td>\n",
       "      <td>new boat from stock</td>\n",
       "      <td>2019</td>\n",
       "      <td>3.55</td>\n",
       "      <td>1.46</td>\n",
       "      <td>Aluminium</td>\n",
       "      <td>58</td>\n",
       "      <td>3399</td>\n",
       "      <td>Germany</td>\n",
       "      <td>Bayern</td>\n",
       "      <td>Low price</td>\n",
       "    </tr>\n",
       "    <tr>\n",
       "      <th>4</th>\n",
       "      <td>Catamaran</td>\n",
       "      <td>Unknown</td>\n",
       "      <td>Used boat,Unleaded</td>\n",
       "      <td>1999</td>\n",
       "      <td>6.20</td>\n",
       "      <td>2.38</td>\n",
       "      <td>Aluminium</td>\n",
       "      <td>474</td>\n",
       "      <td>3636</td>\n",
       "      <td>Switzerland</td>\n",
       "      <td>Neuenburgersee</td>\n",
       "      <td>Low price</td>\n",
       "    </tr>\n",
       "  </tbody>\n",
       "</table>\n",
       "</div>"
      ],
      "text/plain": [
       "             Boat Type          Manufacturer                 Type  Year Built  \\\n",
       "0          Motor Yacht  Rigiflex power boats  new boat from stock        2017   \n",
       "1  Center console boat     Terhi power boats  new boat from stock        2020   \n",
       "2           Sport Boat    Pioner power boats  new boat from stock        2020   \n",
       "3         Fishing Boat    Linder power boats  new boat from stock        2019   \n",
       "4            Catamaran               Unknown   Used boat,Unleaded        1999   \n",
       "\n",
       "   Length  Width       Material  Views last 7 days  Price_in_Euro  \\\n",
       "0    4.00   1.90        Unknown                226           3370   \n",
       "1    4.00   1.50  Thermoplastic                 75           3490   \n",
       "2    3.00   1.00        Unknown                 64           3367   \n",
       "3    3.55   1.46      Aluminium                 58           3399   \n",
       "4    6.20   2.38      Aluminium                474           3636   \n",
       "\n",
       "        Country              City Pricing Category  \n",
       "0  Switzerland       Lake Geneva         Low price  \n",
       "1      Germany        Bnningstedt        Low price  \n",
       "2      Denmark          Svendborg        Low price  \n",
       "3      Germany            Bayern         Low price  \n",
       "4  Switzerland    Neuenburgersee         Low price  "
      ]
     },
     "execution_count": 9,
     "metadata": {},
     "output_type": "execute_result"
    }
   ],
   "source": [
    "df.head()"
   ]
  },
  {
   "cell_type": "code",
   "execution_count": 10,
   "id": "7cbcfa1e",
   "metadata": {},
   "outputs": [
    {
     "data": {
      "text/plain": [
       "Boat Type            0\n",
       "Manufacturer         0\n",
       "Type                 0\n",
       "Year Built           0\n",
       "Length               0\n",
       "Width                0\n",
       "Material             0\n",
       "Views last 7 days    0\n",
       "Price_in_Euro        0\n",
       "Country              0\n",
       "City                 0\n",
       "Pricing Category     0\n",
       "dtype: int64"
      ]
     },
     "execution_count": 10,
     "metadata": {},
     "output_type": "execute_result"
    }
   ],
   "source": [
    "# Checking for missing values\n",
    "df.isnull().sum()"
   ]
  },
  {
   "cell_type": "markdown",
   "id": "361c8f0a",
   "metadata": {},
   "source": [
    "No missing values"
   ]
  },
  {
   "cell_type": "code",
   "execution_count": 11,
   "id": "354a00b6",
   "metadata": {},
   "outputs": [],
   "source": [
    "# Checking for duplicates\n",
    "dups = df.duplicated()"
   ]
  },
  {
   "cell_type": "code",
   "execution_count": 12,
   "id": "66d135b4",
   "metadata": {},
   "outputs": [
    {
     "data": {
      "text/plain": [
       "(9241,)"
      ]
     },
     "execution_count": 12,
     "metadata": {},
     "output_type": "execute_result"
    }
   ],
   "source": [
    "dups.shape"
   ]
  },
  {
   "cell_type": "markdown",
   "id": "4a25608e",
   "metadata": {},
   "source": [
    "No duplicates"
   ]
  },
  {
   "cell_type": "markdown",
   "id": "8831d0c9",
   "metadata": {},
   "source": [
    "### Extreme value check"
   ]
  },
  {
   "cell_type": "code",
   "execution_count": null,
   "id": "f82b2f07",
   "metadata": {},
   "outputs": [],
   "source": [
    "The values i choose to check are Length and Price of the boats "
   ]
  },
  {
   "cell_type": "code",
   "execution_count": 13,
   "id": "a6ae48de",
   "metadata": {},
   "outputs": [
    {
     "name": "stderr",
     "output_type": "stream",
     "text": [
      "/Applications/anaconda3/lib/python3.9/site-packages/seaborn/distributions.py:2619: FutureWarning: `distplot` is a deprecated function and will be removed in a future version. Please adapt your code to use either `displot` (a figure-level function with similar flexibility) or `histplot` (an axes-level function for histograms).\n",
      "  warnings.warn(msg, FutureWarning)\n"
     ]
    },
    {
     "data": {
      "text/plain": [
       "<AxesSubplot:xlabel='Length', ylabel='Density'>"
      ]
     },
     "execution_count": 13,
     "metadata": {},
     "output_type": "execute_result"
    },
    {
     "data": {
      "image/png": "[encoded data removed]",
      "text/plain": [
       "<Figure size 640x480 with 1 Axes>"
      ]
     },
     "metadata": {},
     "output_type": "display_data"
    }
   ],
   "source": [
    "# Checking for extreme values\n",
    "sns.distplot(df['Length'], bins=30)"
   ]
  },
  {
   "cell_type": "code",
   "execution_count": 15,
   "id": "090020ee",
   "metadata": {},
   "outputs": [
    {
     "data": {
      "text/plain": [
       "11.71705226707066"
      ]
     },
     "execution_count": 15,
     "metadata": {},
     "output_type": "execute_result"
    }
   ],
   "source": [
    "# Checking the mean\n",
    "df['Length'].mean()"
   ]
  },
  {
   "cell_type": "code",
   "execution_count": 16,
   "id": "99ecba80",
   "metadata": {},
   "outputs": [
    {
     "data": {
      "text/plain": [
       "10.5"
      ]
     },
     "execution_count": 16,
     "metadata": {},
     "output_type": "execute_result"
    }
   ],
   "source": [
    "# Checking the median\n",
    "df['Length'].median()"
   ]
  },
  {
   "cell_type": "code",
   "execution_count": 17,
   "id": "a399832a",
   "metadata": {},
   "outputs": [
    {
     "data": {
      "text/plain": [
       "100.0"
      ]
     },
     "execution_count": 17,
     "metadata": {},
     "output_type": "execute_result"
    }
   ],
   "source": [
    "# Checking the max\n",
    "df['Length'].max()"
   ]
  },
  {
   "cell_type": "markdown",
   "id": "17034188",
   "metadata": {},
   "source": [
    "####  3. Data preparation for regression analysis\n",
    "  \n"
   ]
  },
  {
   "cell_type": "code",
   "execution_count": 18,
   "id": "f692a97b",
   "metadata": {},
   "outputs": [
    {
     "data": {
      "image/png": "[encoded data removed]",
      "text/plain": [
       "<Figure size 640x480 with 1 Axes>"
      ]
     },
     "metadata": {},
     "output_type": "display_data"
    }
   ],
   "source": [
    "# Creating a scatterplot \n",
    "\n",
    "df.plot(x = 'Length', y='Price_in_Euro',style='o') \n",
    "plt.title('Length vs Price')  \n",
    "plt.xlabel('Length')  \n",
    "plt.ylabel('Price')  \n",
    "plt.show()"
   ]
  },
  {
   "cell_type": "markdown",
   "id": "58044479",
   "metadata": {},
   "source": [
    "### Hypothesis- If a boat is longer, then it is more exxpensive\n"
   ]
  },
  {
   "cell_type": "code",
   "execution_count": 19,
   "id": "3fce9700",
   "metadata": {},
   "outputs": [],
   "source": [
    "# Reshaping the variables into NumPy arrays and put them into separate objects.\n",
    "\n",
    "X = df['Length'].values.reshape(-1,1)\n",
    "y = df['Price_in_Euro'].values.reshape(-1,1)"
   ]
  },
  {
   "cell_type": "code",
   "execution_count": 21,
   "id": "2c8f9f1a",
   "metadata": {},
   "outputs": [
    {
     "data": {
      "text/plain": [
       "array([[4.  ],\n",
       "       [4.  ],\n",
       "       [3.  ],\n",
       "       ...,\n",
       "       [4.4 ],\n",
       "       [4.37],\n",
       "       [3.6 ]])"
      ]
     },
     "execution_count": 21,
     "metadata": {},
     "output_type": "execute_result"
    }
   ],
   "source": [
    "X"
   ]
  },
  {
   "cell_type": "code",
   "execution_count": 22,
   "id": "29508521",
   "metadata": {},
   "outputs": [
    {
     "data": {
      "text/plain": [
       "array([[3370],\n",
       "       [3490],\n",
       "       [3367],\n",
       "       ...,\n",
       "       [4499],\n",
       "       [4300],\n",
       "       [3817]])"
      ]
     },
     "execution_count": 22,
     "metadata": {},
     "output_type": "execute_result"
    }
   ],
   "source": [
    "y"
   ]
  },
  {
   "cell_type": "code",
   "execution_count": 23,
   "id": "2a3b1f71",
   "metadata": {},
   "outputs": [],
   "source": [
    "# Spliting the data into a training set and a test set.\n",
    "\n",
    "X_train, X_test, y_train, y_test = train_test_split(X, y, test_size=0.3, random_state=0)"
   ]
  },
  {
   "cell_type": "markdown",
   "id": "31655e82",
   "metadata": {},
   "source": [
    "### 4. Regression analysis"
   ]
  },
  {
   "cell_type": "code",
   "execution_count": 25,
   "id": "53610716",
   "metadata": {},
   "outputs": [],
   "source": [
    " # Create a regression object.\n",
    "\n",
    "regression = LinearRegression()"
   ]
  },
  {
   "cell_type": "code",
   "execution_count": 26,
   "id": "a4e94dd6",
   "metadata": {},
   "outputs": [
    {
     "data": {
      "text/plain": [
       "LinearRegression()"
      ]
     },
     "execution_count": 26,
     "metadata": {},
     "output_type": "execute_result"
    }
   ],
   "source": [
    "# Fitting the regression object onto the training set.\n",
    "\n",
    "regression.fit(X_train, y_train)"
   ]
  },
  {
   "cell_type": "code",
   "execution_count": 27,
   "id": "c2f17c9c",
   "metadata": {},
   "outputs": [],
   "source": [
    "# Predicting the values of y using X.\n",
    "\n",
    "y_predicted = regression.predict(X_test)"
   ]
  },
  {
   "cell_type": "code",
   "execution_count": 28,
   "id": "23a8a733",
   "metadata": {},
   "outputs": [
    {
     "data": {
      "image/png": "[encoded data removed]",
      "text/plain": [
       "<Figure size 640x480 with 1 Axes>"
      ]
     },
     "metadata": {},
     "output_type": "display_data"
    }
   ],
   "source": [
    "# Creating a plot that shows the regression line from the model on the test set.\n",
    "\n",
    "plot_test = plt\n",
    "plot_test.scatter(X_test, y_test, color='gray', s = 15)\n",
    "plot_test.plot(X_test, y_predicted, color='red', linewidth =3)\n",
    "plot_test.title('Length of boat vs Price (Test set)')\n",
    "plot_test.xlabel('Length of boat')\n",
    "plot_test.ylabel('Price in EUR')\n",
    "plot_test.show()"
   ]
  },
  {
   "cell_type": "code",
   "execution_count": 29,
   "id": "2b9052d9",
   "metadata": {},
   "outputs": [],
   "source": [
    "# Create objects that contain the model summary statistics.\n",
    "\n",
    "rmse = mean_squared_error(y_test, y_predicted) \n",
    "r2 = r2_score(y_test, y_predicted) "
   ]
  },
  {
   "cell_type": "code",
   "execution_count": 30,
   "id": "fe58838f",
   "metadata": {},
   "outputs": [
    {
     "name": "stdout",
     "output_type": "stream",
     "text": [
      "Slope: [[100893.06375611]]\n",
      "Mean squared error:  355630610043.65405\n",
      "R2 score:  0.17662716650640964\n"
     ]
    }
   ],
   "source": [
    "# Printing the model summary statistics. \n",
    "print('Slope:' ,regression.coef_)\n",
    "print('Mean squared error: ', rmse)\n",
    "print('R2 score: ', r2)"
   ]
  },
  {
   "cell_type": "markdown",
   "id": "d2788cd8",
   "metadata": {},
   "source": [
    "The slope of the regression model is 100893.06375611 and it is positive. The mean squared error (MSE) is 355630610043.65405 and the coefficient of determination (R2 score) is 0.17662716650640964.\n",
    "\n",
    "- These results indicate that the linear relationship between the variables is weak. \n",
    "- The MSE is relatively high, indicating that the model does not capture a significant amount of the variance between the variables. \n",
    "- The low R2 score confirms that the model is weak and only explains a small portion of the variance."
   ]
  },
  {
   "cell_type": "code",
   "execution_count": 31,
   "id": "41cbed81",
   "metadata": {},
   "outputs": [
    {
     "data": {
      "text/plain": [
       "array([[-270374.03548463],\n",
       "       [ 244180.58967155],\n",
       "       [  84769.54893689],\n",
       "       ...,\n",
       "       [1602201.22782881],\n",
       "       [ 538788.33583939],\n",
       "       [-254231.14528365]])"
      ]
     },
     "execution_count": 31,
     "metadata": {},
     "output_type": "execute_result"
    }
   ],
   "source": [
    "y_predicted"
   ]
  },
  {
   "cell_type": "code",
   "execution_count": 36,
   "id": "9d22d2f8",
   "metadata": {},
   "outputs": [
    {
     "data": {
      "text/html": [
       "<div>\n",
       "<style scoped>\n",
       "    .dataframe tbody tr th:only-of-type {\n",
       "        vertical-align: middle;\n",
       "    }\n",
       "\n",
       "    .dataframe tbody tr th {\n",
       "        vertical-align: top;\n",
       "    }\n",
       "\n",
       "    .dataframe thead th {\n",
       "        text-align: right;\n",
       "    }\n",
       "</style>\n",
       "<table border=\"1\" class=\"dataframe\">\n",
       "  <thead>\n",
       "    <tr style=\"text-align: right;\">\n",
       "      <th></th>\n",
       "      <th>Actual</th>\n",
       "      <th>Predicted</th>\n",
       "    </tr>\n",
       "  </thead>\n",
       "  <tbody>\n",
       "    <tr>\n",
       "      <th>0</th>\n",
       "      <td>52900</td>\n",
       "      <td>-2.703740e+05</td>\n",
       "    </tr>\n",
       "    <tr>\n",
       "      <th>1</th>\n",
       "      <td>40000</td>\n",
       "      <td>2.441806e+05</td>\n",
       "    </tr>\n",
       "    <tr>\n",
       "      <th>2</th>\n",
       "      <td>275445</td>\n",
       "      <td>8.476955e+04</td>\n",
       "    </tr>\n",
       "    <tr>\n",
       "      <th>3</th>\n",
       "      <td>112000</td>\n",
       "      <td>2.401449e+05</td>\n",
       "    </tr>\n",
       "    <tr>\n",
       "      <th>4</th>\n",
       "      <td>696881</td>\n",
       "      <td>6.427082e+05</td>\n",
       "    </tr>\n",
       "    <tr>\n",
       "      <th>5</th>\n",
       "      <td>249000</td>\n",
       "      <td>5.932706e+05</td>\n",
       "    </tr>\n",
       "    <tr>\n",
       "      <th>6</th>\n",
       "      <td>69000</td>\n",
       "      <td>4.844805e+04</td>\n",
       "    </tr>\n",
       "    <tr>\n",
       "      <th>7</th>\n",
       "      <td>35990</td>\n",
       "      <td>-2.653294e+05</td>\n",
       "    </tr>\n",
       "    <tr>\n",
       "      <th>8</th>\n",
       "      <td>367000</td>\n",
       "      <td>5.145740e+05</td>\n",
       "    </tr>\n",
       "    <tr>\n",
       "      <th>9</th>\n",
       "      <td>449000</td>\n",
       "      <td>8.808158e+05</td>\n",
       "    </tr>\n",
       "    <tr>\n",
       "      <th>10</th>\n",
       "      <td>96455</td>\n",
       "      <td>-9.582904e+04</td>\n",
       "    </tr>\n",
       "    <tr>\n",
       "      <th>11</th>\n",
       "      <td>1620000</td>\n",
       "      <td>9.968428e+05</td>\n",
       "    </tr>\n",
       "    <tr>\n",
       "      <th>12</th>\n",
       "      <td>319000</td>\n",
       "      <td>6.669225e+05</td>\n",
       "    </tr>\n",
       "    <tr>\n",
       "      <th>13</th>\n",
       "      <td>285000</td>\n",
       "      <td>4.782525e+05</td>\n",
       "    </tr>\n",
       "    <tr>\n",
       "      <th>14</th>\n",
       "      <td>26159</td>\n",
       "      <td>-1.998486e+03</td>\n",
       "    </tr>\n",
       "    <tr>\n",
       "      <th>15</th>\n",
       "      <td>120000</td>\n",
       "      <td>1.450862e+06</td>\n",
       "    </tr>\n",
       "    <tr>\n",
       "      <th>16</th>\n",
       "      <td>53900</td>\n",
       "      <td>-2.229543e+05</td>\n",
       "    </tr>\n",
       "    <tr>\n",
       "      <th>17</th>\n",
       "      <td>44900</td>\n",
       "      <td>-2.007578e+05</td>\n",
       "    </tr>\n",
       "    <tr>\n",
       "      <th>18</th>\n",
       "      <td>36500</td>\n",
       "      <td>-6.253432e+04</td>\n",
       "    </tr>\n",
       "    <tr>\n",
       "      <th>19</th>\n",
       "      <td>320000</td>\n",
       "      <td>6.063867e+05</td>\n",
       "    </tr>\n",
       "  </tbody>\n",
       "</table>\n",
       "</div>"
      ],
      "text/plain": [
       "     Actual     Predicted\n",
       "0     52900 -2.703740e+05\n",
       "1     40000  2.441806e+05\n",
       "2    275445  8.476955e+04\n",
       "3    112000  2.401449e+05\n",
       "4    696881  6.427082e+05\n",
       "5    249000  5.932706e+05\n",
       "6     69000  4.844805e+04\n",
       "7     35990 -2.653294e+05\n",
       "8    367000  5.145740e+05\n",
       "9    449000  8.808158e+05\n",
       "10    96455 -9.582904e+04\n",
       "11  1620000  9.968428e+05\n",
       "12   319000  6.669225e+05\n",
       "13   285000  4.782525e+05\n",
       "14    26159 -1.998486e+03\n",
       "15   120000  1.450862e+06\n",
       "16    53900 -2.229543e+05\n",
       "17    44900 -2.007578e+05\n",
       "18    36500 -6.253432e+04\n",
       "19   320000  6.063867e+05"
      ]
     },
     "execution_count": 36,
     "metadata": {},
     "output_type": "execute_result"
    }
   ],
   "source": [
    "# Creating a dataframe comparing the actual and predicted values of y.\n",
    "\n",
    "data = pd.DataFrame({'Actual': y_test.flatten(), 'Predicted': y_predicted.flatten()})\n",
    "data.head(20)"
   ]
  },
  {
   "cell_type": "markdown",
   "id": "a3d68e00",
   "metadata": {},
   "source": [
    "### Compare how the regression fits the training set"
   ]
  },
  {
   "cell_type": "code",
   "execution_count": 33,
   "id": "90beaf7f",
   "metadata": {},
   "outputs": [],
   "source": [
    "# Predict.\n",
    "\n",
    "y_predicted_train = regression.predict(X_train)"
   ]
  },
  {
   "cell_type": "code",
   "execution_count": 34,
   "id": "dfa8334d",
   "metadata": {},
   "outputs": [],
   "source": [
    "rmse = mean_squared_error(y_train, y_predicted_train)\n",
    "r2 = r2_score(y_train, y_predicted_train)"
   ]
  },
  {
   "cell_type": "code",
   "execution_count": 35,
   "id": "72d2dddb",
   "metadata": {},
   "outputs": [
    {
     "name": "stdout",
     "output_type": "stream",
     "text": [
      "Slope: [[100893.06375611]]\n",
      "Mean squared error:  712187465987.1533\n",
      "R2 score:  0.33127759607281604\n"
     ]
    }
   ],
   "source": [
    "print('Slope:' ,regression.coef_)\n",
    "print('Mean squared error: ', rmse)\n",
    "print('R2 score: ', r2)"
   ]
  },
  {
   "cell_type": "code",
   "execution_count": 37,
   "id": "3b30f97f",
   "metadata": {},
   "outputs": [
    {
     "data": {
      "image/png": "[encoded data removed]",
      "text/plain": [
       "<Figure size 640x480 with 1 Axes>"
      ]
     },
     "metadata": {},
     "output_type": "display_data"
    }
   ],
   "source": [
    "# Visualizing the training set results.\n",
    "\n",
    "plot_test = plt\n",
    "plot_test.scatter(X_train, y_train, color='green', s = 15)\n",
    "plot_test.plot(X_train, y_predicted_train, color='red', linewidth =3)\n",
    "plot_test.title('Lenght vs Price(Train set)')\n",
    "plot_test.xlabel('Length')\n",
    "plot_test.ylabel('Price')\n",
    "plot_test.show()"
   ]
  },
  {
   "cell_type": "markdown",
   "id": "ef28e259",
   "metadata": {},
   "source": [
    "Comparing the two sets, it is clear that the training set has a higher R2 score and a lower MSE, indicating that it is a more reliable predictor of the relationship between the independent and dependent variables. The higher R2 score suggests that the training set explains more of the variance between the variables, while the lower MSE indicates that the set is a more accurate predictor.\n",
    "\n",
    "It is evident that the length of a boat is not a reliable indicator of its cost, as there are several other important factors that affect the value of a boat. These include the type of materials used, the craftsmanship, the age of the boat, the condition of the boat, any accessories or features included, and the current market value. All of these should be taken into account when determining the worth of a boat."
   ]
  },
  {
   "cell_type": "code",
   "execution_count": null,
   "id": "effdfeca",
   "metadata": {},
   "outputs": [],
   "source": []
  }
 ],
 "metadata": {
  "kernelspec": {
   "display_name": "Python 3 (ipykernel)",
   "language": "python",
   "name": "python3"
  },
  "language_info": {
   "codemirror_mode": {
    "name": "ipython",
    "version": 3
   },
   "file_extension": ".py",
   "mimetype": "text/x-python",
   "name": "python",
   "nbconvert_exporter": "python",
   "pygments_lexer": "ipython3",
   "version": "3.9.13"
  }
 },
 "nbformat": 4,
 "nbformat_minor": 5
}
